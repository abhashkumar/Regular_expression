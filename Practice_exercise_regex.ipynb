{
 "cells": [
  {
   "cell_type": "code",
   "execution_count": 1,
   "metadata": {},
   "outputs": [],
   "source": [
    "import re"
   ]
  },
  {
   "cell_type": "code",
   "execution_count": 2,
   "metadata": {},
   "outputs": [],
   "source": [
    "def extract_names(filename):\n",
    "    ranked_result_list = list()\n",
    "    file_data = open(filename,'r').read()\n",
    "    regex = re.compile(r'>Popularity in (\\d{4})<')\n",
    "    year = regex.findall(file_data)\n",
    "    ranked_result_list.append(year[0])\n",
    "    pattern_ranked_name = re.compile(r'<tr align=\"right\"><td>(\\d)</td><td>(\\w+)</td><td>(\\w+)</td>')\n",
    "    list_of_ranked_user = pattern_ranked_name.findall(file_data)\n",
    "    rank_dict = dict()\n",
    "    for rank in list_of_ranked_user:\n",
    "        rank_dict[rank[1]] = rank[0]\n",
    "        rank_dict[rank[2]] = rank[0]\n",
    "        \n",
    "    rank_dict = sorted(rank_dict)\n",
    "    for k , v in enumerate(rank_dict):\n",
    "        ranked_result_list.append( '%s %s'%(v,k))\n",
    "\n",
    "    return ranked_result_list\n"
   ]
  },
  {
   "cell_type": "code",
   "execution_count": 3,
   "metadata": {},
   "outputs": [
    {
     "name": "stdout",
     "output_type": "stream",
     "text": [
      "google-python-exercises        Python_Utilities.ipynb\r\n",
      "Practice_exercise_regex.ipynb  Regular_Expression_guide.ipynb\r\n"
     ]
    }
   ],
   "source": [
    "!ls"
   ]
  },
  {
   "cell_type": "code",
   "execution_count": 4,
   "metadata": {},
   "outputs": [],
   "source": [
    "import os"
   ]
  },
  {
   "cell_type": "code",
   "execution_count": 5,
   "metadata": {},
   "outputs": [
    {
     "data": {
      "text/plain": [
       "'/home/abhash/Desktop/Regular_expression'"
      ]
     },
     "execution_count": 5,
     "metadata": {},
     "output_type": "execute_result"
    }
   ],
   "source": [
    "curr_dir = os.getcwd()\n",
    "curr_dir"
   ]
  },
  {
   "cell_type": "code",
   "execution_count": 6,
   "metadata": {},
   "outputs": [],
   "source": [
    "path = os.path.join(os.sep , curr_dir,'google-python-exercises', 'babynames')\n",
    "file_names = [f for f in os.listdir(path) if f.endswith('.html')]"
   ]
  },
  {
   "cell_type": "code",
   "execution_count": 7,
   "metadata": {
    "scrolled": true
   },
   "outputs": [
    {
     "data": {
      "text/plain": [
       "['baby2000.html',\n",
       " 'baby2002.html',\n",
       " 'baby1992.html',\n",
       " 'baby1998.html',\n",
       " 'baby1994.html',\n",
       " 'baby1996.html',\n",
       " 'baby2006.html',\n",
       " 'baby2008.html',\n",
       " 'baby1990.html',\n",
       " 'baby2004.html']"
      ]
     },
     "execution_count": 7,
     "metadata": {},
     "output_type": "execute_result"
    }
   ],
   "source": [
    "file_names"
   ]
  },
  {
   "cell_type": "code",
   "execution_count": 12,
   "metadata": {},
   "outputs": [],
   "source": [
    "summary_file = open('summary.txt','a')\n",
    "for name in file_names:\n",
    "    working_path = os.path.join(os.sep, path,name)\n",
    "    list_data = extract_names(working_path)\n",
    "    summary_file.write('\\n'.join(list_data))\n",
    "    summary_file.write('\\n==============================================================================\\n')    \n",
    "summary_file.close()"
   ]
  },
  {
   "cell_type": "code",
   "execution_count": 9,
   "metadata": {},
   "outputs": [
    {
     "name": "stdout",
     "output_type": "stream",
     "text": [
      "google-python-exercises        Python_Utilities.ipynb\t       summary.txt\r\n",
      "Practice_exercise_regex.ipynb  Regular_Expression_guide.ipynb\r\n"
     ]
    }
   ],
   "source": [
    "! ls"
   ]
  },
  {
   "cell_type": "code",
   "execution_count": 13,
   "metadata": {},
   "outputs": [
    {
     "name": "stdout",
     "output_type": "stream",
     "text": [
      "2000\r\n",
      "Alexis 0\r\n",
      "Andrew 1\r\n",
      "Ashley 2\r\n",
      "Christopher 3\r\n",
      "Daniel 4\r\n",
      "Emily 5\r\n",
      "Hannah 6\r\n",
      "Jacob 7\r\n",
      "Jessica 8\r\n",
      "Joseph 9\r\n",
      "Joshua 10\r\n",
      "Madison 11\r\n",
      "Matthew 12\r\n",
      "Michael 13\r\n",
      "Nicholas 14\r\n",
      "Samantha 15\r\n",
      "Sarah 16\r\n",
      "Taylor 17\r\n",
      "==============================================================================\r\n"
     ]
    }
   ],
   "source": [
    "! cat summary.txt | head -n 20"
   ]
  },
  {
   "cell_type": "code",
   "execution_count": null,
   "metadata": {},
   "outputs": [],
   "source": []
  }
 ],
 "metadata": {
  "kernelspec": {
   "display_name": "Python 3",
   "language": "python",
   "name": "python3"
  },
  "language_info": {
   "codemirror_mode": {
    "name": "ipython",
    "version": 3
   },
   "file_extension": ".py",
   "mimetype": "text/x-python",
   "name": "python",
   "nbconvert_exporter": "python",
   "pygments_lexer": "ipython3",
   "version": "3.5.2"
  }
 },
 "nbformat": 4,
 "nbformat_minor": 2
}
