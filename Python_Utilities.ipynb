{
 "cells": [
  {
   "cell_type": "markdown",
   "metadata": {},
   "source": [
    "In this module we will see some of the Python's many standard utility modules to solve comman problems"
   ]
  },
  {
   "cell_type": "markdown",
   "metadata": {},
   "source": [
    "### FIle System --  os,os.path,shutil"
   ]
  },
  {
   "cell_type": "markdown",
   "metadata": {},
   "source": [
    "The *os* and *os.path* modules include many functions to interact with the file system. The *shutil* module can copy files."
   ]
  },
  {
   "cell_type": "markdown",
   "metadata": {},
   "source": [
    "If you just want to read or write a file see open(), if you want to manipulate paths, see the os.path module, and if you want to read all the lines in all the files on the command line see the fileinput module. For creating temporary files and directories see the tempfile module, and for high-level file and directory handling see the shutil module."
   ]
  },
  {
   "cell_type": "markdown",
   "metadata": {},
   "source": [
    "filenames = os.listdir(dir) -- list of filenames in that directory path (not including . and ..). The filenames are just the names in the directory, not their absolute paths.\n"
   ]
  },
  {
   "cell_type": "markdown",
   "metadata": {},
   "source": [
    "os.path.join(dir, filename) -- given a filename from the above list, use this to put the dir and filename together to make a path"
   ]
  },
  {
   "cell_type": "markdown",
   "metadata": {},
   "source": [
    "os.path.abspath(path) -- given a path, return an absolute form, e.g. /home/nick/foo/bar.html"
   ]
  },
  {
   "cell_type": "markdown",
   "metadata": {},
   "source": [
    "os.path.dirname(path), os.path.basename(path) -- given dir/foo/bar.html, return the dirname \"dir/foo\" and basename \"bar.html\""
   ]
  },
  {
   "cell_type": "markdown",
   "metadata": {},
   "source": [
    "os.path.exists(path) -- true if it exists"
   ]
  },
  {
   "cell_type": "markdown",
   "metadata": {},
   "source": [
    "os.mkdir(dir_path) -- makes one dir, os.makedirs(dir_path) makes all the needed dirs in this path"
   ]
  },
  {
   "cell_type": "markdown",
   "metadata": {},
   "source": [
    "shutil.copy(source-path, dest-path) -- copy a file (dest path directories should exist)"
   ]
  },
  {
   "cell_type": "code",
   "execution_count": 7,
   "metadata": {},
   "outputs": [
    {
     "data": {
      "text/plain": [
       "(['/home/abhash/Desktop/Regular_expression'], IPython.utils.text.SList)"
      ]
     },
     "execution_count": 7,
     "metadata": {},
     "output_type": "execute_result"
    }
   ],
   "source": [
    "curr_dir = !pwd\n",
    "curr,type(curr)"
   ]
  },
  {
   "cell_type": "code",
   "execution_count": 3,
   "metadata": {},
   "outputs": [],
   "source": [
    "import os"
   ]
  },
  {
   "cell_type": "code",
   "execution_count": 9,
   "metadata": {},
   "outputs": [
    {
     "data": {
      "text/plain": [
       "'posix'"
      ]
     },
     "execution_count": 9,
     "metadata": {},
     "output_type": "execute_result"
    }
   ],
   "source": [
    "os.name"
   ]
  },
  {
   "cell_type": "markdown",
   "metadata": {},
   "source": [
    "The os and sys modules provide numerous tools to deal with filenames, paths, directories. The os module contains two sub-modules os.sys (same as sys) and os.path that are dedicated to the system and directories; respectively."
   ]
  },
  {
   "cell_type": "code",
   "execution_count": 10,
   "metadata": {},
   "outputs": [],
   "source": [
    "import os.path"
   ]
  },
  {
   "cell_type": "code",
   "execution_count": 11,
   "metadata": {},
   "outputs": [
    {
     "data": {
      "text/plain": [
       "'/home/user/work'"
      ]
     },
     "execution_count": 11,
     "metadata": {},
     "output_type": "execute_result"
    }
   ],
   "source": [
    "os.path.join(os.sep, 'home', 'user', 'work')"
   ]
  },
  {
   "cell_type": "code",
   "execution_count": 12,
   "metadata": {},
   "outputs": [
    {
     "data": {
      "text/plain": [
       "('/usr/bin', 'python')"
      ]
     },
     "execution_count": 12,
     "metadata": {},
     "output_type": "execute_result"
    }
   ],
   "source": [
    " os.path.split('/usr/bin/python')"
   ]
  },
  {
   "cell_type": "markdown",
   "metadata": {},
   "source": [
    "The getcwd() function returns the current directory (in unicode format with getcwdu() )."
   ]
  },
  {
   "cell_type": "markdown",
   "metadata": {},
   "source": [
    "The current directory can be changed using chdir():\n",
    "os.chdir(path)"
   ]
  },
  {
   "cell_type": "markdown",
   "metadata": {},
   "source": [
    "The listdir() function returns the content of a directory. Note, however, that it mixes directories and files.\n",
    "\n"
   ]
  },
  {
   "cell_type": "code",
   "execution_count": 4,
   "metadata": {},
   "outputs": [
    {
     "name": "stdout",
     "output_type": "stream",
     "text": [
      "/home/abhash\n"
     ]
    }
   ],
   "source": [
    "k = %cd"
   ]
  },
  {
   "cell_type": "code",
   "execution_count": 5,
   "metadata": {},
   "outputs": [
    {
     "data": {
      "text/plain": [
       "['unti.cpp',\n",
       " '.bshrc.save',\n",
       " 'temp',\n",
       " '.everpad',\n",
       " '.bash_logout',\n",
       " '.nano',\n",
       " '.kde',\n",
       " '.ipynb_checkpoints',\n",
       " '.texmf-var',\n",
       " 'Untitled4.ipynb',\n",
       " '.gnome2',\n",
       " 'predicated_class.txt~',\n",
       " '.directory',\n",
       " '.lyx',\n",
       " 'Documents',\n",
       " 'Untitled Document',\n",
       " 'b.model',\n",
       " 'spikes.ckpt.meta',\n",
       " 'Untitled.ipynb',\n",
       " 'spikes.ckpt',\n",
       " '.xinitrc',\n",
       " '.thunderbird',\n",
       " 'see.txt',\n",
       " '.kodi',\n",
       " 'google-chrome-stable_current_amd64.deb',\n",
       " '.local',\n",
       " 'Downloads',\n",
       " 'Project_refreshed',\n",
       " '.profile',\n",
       " 'nltk_data',\n",
       " '.theano',\n",
       " '.ICEauthority',\n",
       " '.cache',\n",
       " '.ipython',\n",
       " 'nx',\n",
       " '..bshrc.swp',\n",
       " 'Public',\n",
       " '.jupyter',\n",
       " '.xinitrc.save',\n",
       " '.xsession-errors',\n",
       " '.keras',\n",
       " '.xsession-errors.old',\n",
       " '.sudo_as_admin_successful',\n",
       " '.atom',\n",
       " '.gnupg',\n",
       " '.pip',\n",
       " '.gnome2_private',\n",
       " '.macromedia',\n",
       " '.gstreamer-0.10',\n",
       " 'Untitled1.ipynb',\n",
       " 'data',\n",
       " '.gvfs',\n",
       " 'Untitled1',\n",
       " '.ssh',\n",
       " '.bashrc',\n",
       " '.bash_history',\n",
       " '.gitconfig',\n",
       " '.adobe',\n",
       " '.config',\n",
       " '.dmrc',\n",
       " 'Pictures',\n",
       " '.compiz',\n",
       " '.oracle_jre_usage',\n",
       " '.dbus',\n",
       " 'predicated_class.txt',\n",
       " 'torch',\n",
       " '.gtkrc-2.0',\n",
       " 'examples.desktop',\n",
       " '.gconf',\n",
       " '.Xauthority',\n",
       " 'Music',\n",
       " '.python_history-',\n",
       " 'AutoEncoder.ipynb',\n",
       " '.bashrc~',\n",
       " '.pyxbld',\n",
       " '.gnome',\n",
       " 'Untitled1.cpp',\n",
       " '.pythonhist',\n",
       " 'Templates',\n",
       " 'helloWorld',\n",
       " '.luahistory',\n",
       " 'Videos',\n",
       " 'treelstm.git',\n",
       " 'checkpoint',\n",
       " '.pki',\n",
       " '.mozilla',\n",
       " '.xinputrc',\n",
       " 'Desktop',\n",
       " '.codeblocks',\n",
       " 'Untitled1.o']"
      ]
     },
     "execution_count": 5,
     "metadata": {},
     "output_type": "execute_result"
    }
   ],
   "source": [
    "os.listdir(k)"
   ]
  },
  {
   "cell_type": "code",
   "execution_count": 7,
   "metadata": {},
   "outputs": [
    {
     "data": {
      "text/plain": [
       "['Untitled4.ipynb', 'Untitled.ipynb', 'Untitled1.ipynb', 'AutoEncoder.ipynb']"
      ]
     },
     "execution_count": 7,
     "metadata": {},
     "output_type": "execute_result"
    }
   ],
   "source": [
    "[f for f in os.listdir(k) if f.endswith('.ipynb')] #extracting all ipynb files"
   ]
  },
  {
   "cell_type": "markdown",
   "metadata": {},
   "source": [
    "The mkdir() function creates a directory. It returns an error if the parent directory does not exist. If you want to create the parent directory as well, you should rather use makedirs():"
   ]
  },
  {
   "cell_type": "code",
   "execution_count": 28,
   "metadata": {},
   "outputs": [
    {
     "ename": "FileExistsError",
     "evalue": "[Errno 17] File exists: '/tmp/temp/temp'",
     "output_type": "error",
     "traceback": [
      "\u001b[0;31m---------------------------------------------------------------------------\u001b[0m",
      "\u001b[0;31mFileExistsError\u001b[0m                           Traceback (most recent call last)",
      "\u001b[0;32m<ipython-input-28-1238911ddb65>\u001b[0m in \u001b[0;36m<module>\u001b[0;34m()\u001b[0m\n\u001b[1;32m      1\u001b[0m \u001b[0mos\u001b[0m\u001b[0;34m.\u001b[0m\u001b[0mmkdir\u001b[0m\u001b[0;34m(\u001b[0m\u001b[0;34m'temp'\u001b[0m\u001b[0;34m)\u001b[0m \u001b[0;31m# creates temp directory inside the current directory\u001b[0m\u001b[0;34m\u001b[0m\u001b[0m\n\u001b[0;32m----> 2\u001b[0;31m \u001b[0mos\u001b[0m\u001b[0;34m.\u001b[0m\u001b[0mmakedirs\u001b[0m\u001b[0;34m(\u001b[0m\u001b[0;34m\"/tmp/temp/temp\"\u001b[0m\u001b[0;34m)\u001b[0m\u001b[0;34m\u001b[0m\u001b[0m\n\u001b[0m",
      "\u001b[0;32m/usr/lib/python3.5/os.py\u001b[0m in \u001b[0;36mmakedirs\u001b[0;34m(name, mode, exist_ok)\u001b[0m\n\u001b[1;32m    239\u001b[0m             \u001b[0;32mreturn\u001b[0m\u001b[0;34m\u001b[0m\u001b[0m\n\u001b[1;32m    240\u001b[0m     \u001b[0;32mtry\u001b[0m\u001b[0;34m:\u001b[0m\u001b[0;34m\u001b[0m\u001b[0m\n\u001b[0;32m--> 241\u001b[0;31m         \u001b[0mmkdir\u001b[0m\u001b[0;34m(\u001b[0m\u001b[0mname\u001b[0m\u001b[0;34m,\u001b[0m \u001b[0mmode\u001b[0m\u001b[0;34m)\u001b[0m\u001b[0;34m\u001b[0m\u001b[0m\n\u001b[0m\u001b[1;32m    242\u001b[0m     \u001b[0;32mexcept\u001b[0m \u001b[0mOSError\u001b[0m\u001b[0;34m:\u001b[0m\u001b[0;34m\u001b[0m\u001b[0m\n\u001b[1;32m    243\u001b[0m         \u001b[0;31m# Cannot rely on checking for EEXIST, since the operating system\u001b[0m\u001b[0;34m\u001b[0m\u001b[0;34m\u001b[0m\u001b[0m\n",
      "\u001b[0;31mFileExistsError\u001b[0m: [Errno 17] File exists: '/tmp/temp/temp'"
     ]
    }
   ],
   "source": [
    "os.mkdir('temp') # creates temp directory inside the current directory\n",
    "os.makedirs(\"/tmp/temp/temp\")"
   ]
  },
  {
   "cell_type": "code",
   "execution_count": 23,
   "metadata": {},
   "outputs": [
    {
     "name": "stdout",
     "output_type": "stream",
     "text": [
      "/home/abhash\r\n"
     ]
    }
   ],
   "source": [
    "!pwd"
   ]
  },
  {
   "cell_type": "code",
   "execution_count": 24,
   "metadata": {},
   "outputs": [
    {
     "name": "stdout",
     "output_type": "stream",
     "text": [
      "/home/abhash/Desktop/Regular_expression\n"
     ]
    }
   ],
   "source": [
    "cd Desktop/Regular_expression/"
   ]
  },
  {
   "cell_type": "code",
   "execution_count": 25,
   "metadata": {},
   "outputs": [
    {
     "name": "stdout",
     "output_type": "stream",
     "text": [
      "/home/abhash/Desktop/Regular_expression\r\n"
     ]
    }
   ],
   "source": [
    "!pwd"
   ]
  },
  {
   "cell_type": "code",
   "execution_count": 26,
   "metadata": {},
   "outputs": [
    {
     "name": "stdout",
     "output_type": "stream",
     "text": [
      "Python_Utilities.ipynb\tRegular_Expression_guide.ipynb\r\n"
     ]
    }
   ],
   "source": [
    "!ls"
   ]
  },
  {
   "cell_type": "code",
   "execution_count": 27,
   "metadata": {},
   "outputs": [
    {
     "name": "stdout",
     "output_type": "stream",
     "text": [
      "AutoEncoder.ipynb\t\t\tPublic\r\n",
      "b.model\t\t\t\t\tsee.txt\r\n",
      "checkpoint\t\t\t\tspikes.ckpt\r\n",
      "data\t\t\t\t\tspikes.ckpt.meta\r\n",
      "Desktop\t\t\t\t\ttemp\r\n",
      "Documents\t\t\t\tTemplates\r\n",
      "Downloads\t\t\t\ttorch\r\n",
      "examples.desktop\t\t\ttreelstm.git\r\n",
      "google-chrome-stable_current_amd64.deb\tunti.cpp\r\n",
      "helloWorld\t\t\t\tUntitled1\r\n",
      "Music\t\t\t\t\tUntitled1.cpp\r\n",
      "nltk_data\t\t\t\tUntitled1.ipynb\r\n",
      "nx\t\t\t\t\tUntitled1.o\r\n",
      "Pictures\t\t\t\tUntitled4.ipynb\r\n",
      "predicated_class.txt\t\t\tUntitled Document\r\n",
      "predicated_class.txt~\t\t\tUntitled.ipynb\r\n",
      "Project_refreshed\t\t\tVideos\r\n"
     ]
    }
   ],
   "source": [
    "!ls ../.."
   ]
  },
  {
   "cell_type": "code",
   "execution_count": 29,
   "metadata": {},
   "outputs": [
    {
     "name": "stdout",
     "output_type": "stream",
     "text": [
      "Python_Utilities.ipynb\tRegular_Expression_guide.ipynb\ttemp\r\n"
     ]
    }
   ],
   "source": [
    "!ls\n"
   ]
  },
  {
   "cell_type": "code",
   "execution_count": 31,
   "metadata": {},
   "outputs": [],
   "source": [
    "!rm -r temp"
   ]
  },
  {
   "cell_type": "code",
   "execution_count": 32,
   "metadata": {},
   "outputs": [
    {
     "name": "stdout",
     "output_type": "stream",
     "text": [
      "Python_Utilities.ipynb\tRegular_Expression_guide.ipynb\r\n"
     ]
    }
   ],
   "source": [
    "!ls"
   ]
  },
  {
   "cell_type": "markdown",
   "metadata": {},
   "source": [
    "Once created, you can delete an empty directory with rmdir():\n",
    "You can remove all directories within a directory (if there are not empty) by using os.removedirs()."
   ]
  },
  {
   "cell_type": "code",
   "execution_count": 38,
   "metadata": {},
   "outputs": [
    {
     "data": {
      "text/plain": [
       "(<function posix.uname()>, '/')"
      ]
     },
     "execution_count": 38,
     "metadata": {},
     "output_type": "execute_result"
    }
   ],
   "source": [
    "os.uname, os.path.sep"
   ]
  },
  {
   "cell_type": "code",
   "execution_count": 39,
   "metadata": {},
   "outputs": [
    {
     "data": {
      "text/plain": [
       "'.'"
      ]
     },
     "execution_count": 39,
     "metadata": {},
     "output_type": "execute_result"
    }
   ],
   "source": [
    "os.path.curdir"
   ]
  },
  {
   "cell_type": "code",
   "execution_count": 40,
   "metadata": {},
   "outputs": [
    {
     "name": "stdout",
     "output_type": "stream",
     "text": [
      "/home/abhash/Desktop/Regular_expression\r\n"
     ]
    }
   ],
   "source": [
    "!pwd"
   ]
  },
  {
   "cell_type": "markdown",
   "metadata": {},
   "source": [
    "os.path.curdir # returns the current directory ('.')\n",
    "\n",
    "os.path.isdir(dir) # returns True if dir exists\n",
    "\n",
    "os.path.isfile(file) # returns True if file exists\n",
    "\n",
    "os.path.islink(link) # returns True if link exists\n",
    "\n",
    "os.path.exists(dir) # returns True if dir exists (full pathname or filename)\n",
    "\n",
    "os.path.getsize(filename) # returns size of a file without opening it."
   ]
  },
  {
   "cell_type": "markdown",
   "metadata": {},
   "source": [
    "### Running External Processes --- commands"
   ]
  },
  {
   "cell_type": "code",
   "execution_count": null,
   "metadata": {},
   "outputs": [],
   "source": []
  },
  {
   "cell_type": "code",
   "execution_count": null,
   "metadata": {},
   "outputs": [],
   "source": []
  },
  {
   "cell_type": "code",
   "execution_count": null,
   "metadata": {},
   "outputs": [],
   "source": []
  },
  {
   "cell_type": "code",
   "execution_count": null,
   "metadata": {},
   "outputs": [],
   "source": []
  },
  {
   "cell_type": "code",
   "execution_count": null,
   "metadata": {},
   "outputs": [],
   "source": []
  },
  {
   "cell_type": "markdown",
   "metadata": {},
   "source": [
    "### HTTP -- urllib and urlparse"
   ]
  },
  {
   "cell_type": "code",
   "execution_count": null,
   "metadata": {},
   "outputs": [],
   "source": []
  },
  {
   "cell_type": "code",
   "execution_count": null,
   "metadata": {},
   "outputs": [],
   "source": []
  },
  {
   "cell_type": "code",
   "execution_count": null,
   "metadata": {},
   "outputs": [],
   "source": []
  },
  {
   "cell_type": "code",
   "execution_count": null,
   "metadata": {},
   "outputs": [],
   "source": []
  },
  {
   "cell_type": "code",
   "execution_count": null,
   "metadata": {},
   "outputs": [],
   "source": []
  },
  {
   "cell_type": "code",
   "execution_count": null,
   "metadata": {},
   "outputs": [],
   "source": []
  },
  {
   "cell_type": "code",
   "execution_count": null,
   "metadata": {},
   "outputs": [],
   "source": []
  },
  {
   "cell_type": "code",
   "execution_count": null,
   "metadata": {},
   "outputs": [],
   "source": []
  },
  {
   "cell_type": "code",
   "execution_count": null,
   "metadata": {},
   "outputs": [],
   "source": []
  },
  {
   "cell_type": "code",
   "execution_count": null,
   "metadata": {},
   "outputs": [],
   "source": []
  },
  {
   "cell_type": "code",
   "execution_count": null,
   "metadata": {},
   "outputs": [],
   "source": []
  },
  {
   "cell_type": "code",
   "execution_count": null,
   "metadata": {},
   "outputs": [],
   "source": []
  },
  {
   "cell_type": "code",
   "execution_count": null,
   "metadata": {},
   "outputs": [],
   "source": []
  },
  {
   "cell_type": "code",
   "execution_count": null,
   "metadata": {},
   "outputs": [],
   "source": []
  },
  {
   "cell_type": "code",
   "execution_count": null,
   "metadata": {},
   "outputs": [],
   "source": []
  },
  {
   "cell_type": "code",
   "execution_count": null,
   "metadata": {},
   "outputs": [],
   "source": []
  },
  {
   "cell_type": "code",
   "execution_count": null,
   "metadata": {},
   "outputs": [],
   "source": []
  }
 ],
 "metadata": {
  "kernelspec": {
   "display_name": "Python 3",
   "language": "python",
   "name": "python3"
  },
  "language_info": {
   "codemirror_mode": {
    "name": "ipython",
    "version": 3
   },
   "file_extension": ".py",
   "mimetype": "text/x-python",
   "name": "python",
   "nbconvert_exporter": "python",
   "pygments_lexer": "ipython3",
   "version": "3.5.2"
  }
 },
 "nbformat": 4,
 "nbformat_minor": 2
}
